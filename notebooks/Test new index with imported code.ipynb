{
 "cells": [
  {
   "cell_type": "code",
   "execution_count": 3,
   "id": "dab0409f-7c48-4b50-a2c6-b79d17fc3ec9",
   "metadata": {},
   "outputs": [],
   "source": [
    "\n",
    "import sys \n",
    "\n",
    "from IPython import display\n",
    "\n",
    "sys.path.append(\"..\")\n",
    "sys.path.append(\"../utlities\")\n",
    "from utlities.query_and_display import get_and_show_most_similar_emails_html\n",
    "from utlities.pinecone_index_utilities import create_index, get_embeddings_for_upsert\n",
    "from utlities.image_prompting import create_and_save_image_tags\n"
   ]
  },
  {
   "cell_type": "code",
   "execution_count": 4,
   "id": "c8e708a3-5412-4faa-8b33-a66cc4919c9a",
   "metadata": {},
   "outputs": [],
   "source": [
    "SYSTEM_PROMPT = \"\"\"You are a helpful bot who provides detailed tags for professioanlly done marketing emails. \n",
    "First, describe the header area of an email in 1 sentence (up to 15 words). Marketing emails usually contain multiple topics / components.\n",
    "We only care about the first one, a.k.a. what is \"above the fold\" at the top of the email. \n",
    "\n",
    "Next, list out the tags for each theme area. \n",
    "These tags will be used to help professional email marketers search an inspiration database to discover the emails that are most relevant to their query. \n",
    "It's important that you think like a professional marketing designer when writing these tags. \n",
    "For each of the following categories, please return 6-10 tags. related to themes you see in the header area. \n",
    "\n",
    "Please AVOID any tags that are generic to many well-made marketing emails. \n",
    "These are not helpful, as they don't distingish the email from other ones. \n",
    "Some examples of overly generic tags to avoid are things like \"Clean Spacing\", \"Clear Hierarchy\", \"Mobile-Optimized\", or \"Professional\". We can assume that all emails in our dataset are like this. \n",
    "\n",
    "Return the output as a json dictionary like so:\n",
    "{\n",
    "    \"header_area_description\": \"...\", # 1 sentence, up to 15 words. \n",
    "    \"layout\": [\"First Tag\", \"Second\", ...],  # how are the text and images laid out? What key layout elements are there? \n",
    "    \"brand_style\": [...], # what words best represent the brand style/voice of this email? What's the art style? \n",
    "    \"text\": [...],  # what kinds of fonts and text formats do they use, what techniques are used in laying out text?\n",
    "    \"color_scheme\": [...], # how would you describe the vibe of color scheme? (don't say specific colors, though) \n",
    "}\n",
    "\"\"\"\n",
    "\n"
   ]
  },
  {
   "cell_type": "code",
   "execution_count": 5,
   "id": "c4478f4f-36b6-4a2b-969c-465943ca46b2",
   "metadata": {},
   "outputs": [
    {
     "name": "stdout",
     "output_type": "stream",
     "text": [
      "creating new directory /Users/charlienatoli/Desktop/email_search_project/image_tag_sets/email-header-focus-fewer-tags\n",
      "{'layout': ['Split-screen hero', 'Left-aligned text stack', 'Prominent CTA button', 'Numerical value highlight', 'White space emphasis', 'Top banner notification', 'Login form integration'], 'brand_style': ['Direct and confident', 'Tech-friendly', 'Approachable finance', 'Solution-oriented', 'Trust-building', 'Modern simplicity', 'Customer-centric'], 'text': ['Action-oriented headlines', 'Dollar amount emphasis', 'Benefit-focused copy', 'Conversational tone', 'Clear value proposition', 'Scannable structure', 'Strategic text sizing'], 'color_scheme': ['Corporate trustworthy', 'High contrast accents', 'Strategic color pops', 'Clean background', 'Action-oriented highlight', 'Brand-consistent palette', 'Conversion-focused contrast']}\n"
     ]
    },
    {
     "ename": "FileNotFoundError",
     "evalue": "[Errno 2] No such file or directory: '/Users/charlienatoli/Desktop/email_search_project/example_email_images/the-2023-highland-collectio.png'",
     "output_type": "error",
     "traceback": [
      "\u001b[0;31m---------------------------------------------------------------------------\u001b[0m",
      "\u001b[0;31mFileNotFoundError\u001b[0m                         Traceback (most recent call last)",
      "Cell \u001b[0;32mIn[5], line 1\u001b[0m\n\u001b[0;32m----> 1\u001b[0m \u001b[43mcreate_and_save_image_tags\u001b[49m\u001b[43m(\u001b[49m\n\u001b[1;32m      2\u001b[0m \u001b[43m    \u001b[49m\u001b[43mSYSTEM_PROMPT\u001b[49m\u001b[43m,\u001b[49m\n\u001b[1;32m      3\u001b[0m \u001b[43m    \u001b[49m\u001b[38;5;124;43m'\u001b[39;49m\u001b[38;5;124;43memail-header-focus-fewer-tags\u001b[39;49m\u001b[38;5;124;43m'\u001b[39;49m\u001b[43m,\u001b[49m\n\u001b[1;32m      4\u001b[0m \u001b[43m    \u001b[49m\u001b[43mtags_to_ignore\u001b[49m\u001b[38;5;241;43m=\u001b[39;49m\u001b[38;5;124;43m'\u001b[39;49m\u001b[38;5;124;43mheader_area_description\u001b[39;49m\u001b[38;5;124;43m'\u001b[39;49m\u001b[43m)\u001b[49m\n",
      "File \u001b[0;32m~/coding_projects/email_content_search/notebooks/../utlities/image_prompting.py:59\u001b[0m, in \u001b[0;36mcreate_and_save_image_tags\u001b[0;34m(data_extraction_prompt, index_name, tags_to_ignore)\u001b[0m\n\u001b[1;32m     56\u001b[0m \u001b[38;5;28;01mif\u001b[39;00m \u001b[38;5;129;01mnot\u001b[39;00m image_filename\u001b[38;5;241m.\u001b[39mendswith(\u001b[38;5;124m\"\u001b[39m\u001b[38;5;124m.png\u001b[39m\u001b[38;5;124m\"\u001b[39m):\n\u001b[1;32m     57\u001b[0m     \u001b[38;5;28;01mcontinue\u001b[39;00m\n\u001b[0;32m---> 59\u001b[0m tags_dict \u001b[38;5;241m=\u001b[39m \u001b[43mcreate_image_tags\u001b[49m\u001b[43m(\u001b[49m\n\u001b[1;32m     60\u001b[0m \u001b[43m    \u001b[49m\u001b[43mimage_id\u001b[49m\u001b[38;5;241;43m=\u001b[39;49m\u001b[43mimage_filename\u001b[49m\u001b[38;5;241;43m.\u001b[39;49m\u001b[43mstrip\u001b[49m\u001b[43m(\u001b[49m\u001b[38;5;124;43m\"\u001b[39;49m\u001b[38;5;124;43m.png\u001b[39;49m\u001b[38;5;124;43m\"\u001b[39;49m\u001b[43m)\u001b[49m\u001b[43m,\u001b[49m\n\u001b[1;32m     61\u001b[0m \u001b[43m    \u001b[49m\u001b[43mdata_extraction_prompt\u001b[49m\u001b[38;5;241;43m=\u001b[39;49m\u001b[43mdata_extraction_prompt\u001b[49m\u001b[43m,\u001b[49m\n\u001b[1;32m     62\u001b[0m \u001b[43m\u001b[49m\u001b[43m)\u001b[49m\n\u001b[1;32m     64\u001b[0m tags_dict \u001b[38;5;241m=\u001b[39m {key: tags_dict[key] \u001b[38;5;28;01mfor\u001b[39;00m key \u001b[38;5;129;01min\u001b[39;00m tags_dict\u001b[38;5;241m.\u001b[39mkeys() \u001b[38;5;28;01mif\u001b[39;00m key \u001b[38;5;129;01mnot\u001b[39;00m \u001b[38;5;129;01min\u001b[39;00m tags_to_ignore}\n\u001b[1;32m     66\u001b[0m \u001b[38;5;28mprint\u001b[39m(tags_dict)\n",
      "File \u001b[0;32m~/coding_projects/email_content_search/notebooks/../utlities/image_prompting.py:24\u001b[0m, in \u001b[0;36mcreate_image_tags\u001b[0;34m(image_id, data_extraction_prompt)\u001b[0m\n\u001b[1;32m     22\u001b[0m \u001b[38;5;28;01mdef\u001b[39;00m\u001b[38;5;250m \u001b[39m\u001b[38;5;21mcreate_image_tags\u001b[39m(image_id, data_extraction_prompt):\n\u001b[1;32m     23\u001b[0m     image_path \u001b[38;5;241m=\u001b[39m os\u001b[38;5;241m.\u001b[39mpath\u001b[38;5;241m.\u001b[39mjoin(IMAGES_FOLDER, image_id \u001b[38;5;241m+\u001b[39m \u001b[38;5;124m\"\u001b[39m\u001b[38;5;124m.png\u001b[39m\u001b[38;5;124m\"\u001b[39m )\n\u001b[0;32m---> 24\u001b[0m     image \u001b[38;5;241m=\u001b[39m \u001b[43mImage\u001b[49m\u001b[38;5;241;43m.\u001b[39;49m\u001b[43mopen\u001b[49m\u001b[43m(\u001b[49m\u001b[43mimage_path\u001b[49m\u001b[43m)\u001b[49m\n\u001b[1;32m     26\u001b[0m     message \u001b[38;5;241m=\u001b[39m CLIENT\u001b[38;5;241m.\u001b[39mmessages\u001b[38;5;241m.\u001b[39mcreate(\n\u001b[1;32m     27\u001b[0m         model\u001b[38;5;241m=\u001b[39m\u001b[38;5;124m\"\u001b[39m\u001b[38;5;124mclaude-3-5-sonnet-20241022\u001b[39m\u001b[38;5;124m\"\u001b[39m,\n\u001b[1;32m     28\u001b[0m         max_tokens\u001b[38;5;241m=\u001b[39m\u001b[38;5;241m1000\u001b[39m,\n\u001b[0;32m   (...)\u001b[0m\n\u001b[1;32m     45\u001b[0m         ]\n\u001b[1;32m     46\u001b[0m     )\n\u001b[1;32m     47\u001b[0m     \u001b[38;5;28;01mreturn\u001b[39;00m json\u001b[38;5;241m.\u001b[39mloads(message\u001b[38;5;241m.\u001b[39mcontent[\u001b[38;5;241m0\u001b[39m]\u001b[38;5;241m.\u001b[39mtext)\n",
      "File \u001b[0;32m~/coding_projects/email_content_search/.venv/lib/python3.13/site-packages/PIL/Image.py:3465\u001b[0m, in \u001b[0;36mopen\u001b[0;34m(fp, mode, formats)\u001b[0m\n\u001b[1;32m   3462\u001b[0m     filename \u001b[38;5;241m=\u001b[39m os\u001b[38;5;241m.\u001b[39mfspath(fp)\n\u001b[1;32m   3464\u001b[0m \u001b[38;5;28;01mif\u001b[39;00m filename:\n\u001b[0;32m-> 3465\u001b[0m     fp \u001b[38;5;241m=\u001b[39m \u001b[43mbuiltins\u001b[49m\u001b[38;5;241;43m.\u001b[39;49m\u001b[43mopen\u001b[49m\u001b[43m(\u001b[49m\u001b[43mfilename\u001b[49m\u001b[43m,\u001b[49m\u001b[43m \u001b[49m\u001b[38;5;124;43m\"\u001b[39;49m\u001b[38;5;124;43mrb\u001b[39;49m\u001b[38;5;124;43m\"\u001b[39;49m\u001b[43m)\u001b[49m\n\u001b[1;32m   3466\u001b[0m     exclusive_fp \u001b[38;5;241m=\u001b[39m \u001b[38;5;28;01mTrue\u001b[39;00m\n\u001b[1;32m   3467\u001b[0m \u001b[38;5;28;01melse\u001b[39;00m:\n",
      "\u001b[0;31mFileNotFoundError\u001b[0m: [Errno 2] No such file or directory: '/Users/charlienatoli/Desktop/email_search_project/example_email_images/the-2023-highland-collectio.png'"
     ]
    }
   ],
   "source": [
    " \n",
    "\n",
    "create_and_save_image_tags(\n",
    "    SYSTEM_PROMPT,\n",
    "    'email-header-focus-fewer-tags',\n",
    "    tags_to_ignore='header_area_description')\n"
   ]
  },
  {
   "cell_type": "code",
   "execution_count": null,
   "id": "3be50cf1-ff80-4c43-a3f8-a6f662aac168",
   "metadata": {},
   "outputs": [],
   "source": []
  },
  {
   "cell_type": "code",
   "execution_count": null,
   "id": "0365bc2d-63ae-4260-a903-6e4304fff12e",
   "metadata": {},
   "outputs": [],
   "source": []
  }
 ],
 "metadata": {
  "kernelspec": {
   "display_name": "Python 3 (ipykernel)",
   "language": "python",
   "name": "python3"
  },
  "language_info": {
   "codemirror_mode": {
    "name": "ipython",
    "version": 3
   },
   "file_extension": ".py",
   "mimetype": "text/x-python",
   "name": "python",
   "nbconvert_exporter": "python",
   "pygments_lexer": "ipython3",
   "version": "3.13.1"
  }
 },
 "nbformat": 4,
 "nbformat_minor": 5
}

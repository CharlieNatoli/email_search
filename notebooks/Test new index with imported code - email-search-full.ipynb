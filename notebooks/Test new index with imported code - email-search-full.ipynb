{
 "cells": [
  {
   "cell_type": "code",
   "execution_count": 1,
   "id": "dab0409f-7c48-4b50-a2c6-b79d17fc3ec9",
   "metadata": {},
   "outputs": [],
   "source": [
    "\n",
    "import sys \n",
    "\n",
    "from IPython import display\n",
    "\n",
    "sys.path.append(\"..\")\n",
    "sys.path.append(\"../utlities\")\n",
    "from utlities.query_and_display import get_and_show_most_similar_emails_html\n",
    "from utlities.pinecone_index_utilities import create_index, get_embeddings_and_upsert\n",
    "from utlities.create_email_tags import create_email_tags_dataset\n"
   ]
  },
  {
   "cell_type": "code",
   "execution_count": 3,
   "id": "c8e708a3-5412-4faa-8b33-a66cc4919c9a",
   "metadata": {},
   "outputs": [],
   "source": [
    "SYSTEM_PROMPT = \"\"\"You are a helpful bot who provides detailed tags for professioanlly done marketing emails. \n",
    "First, describe the header area of an email in 1 sentence (up to 15 words). Marketing emails usually contain multiple topics / components.\n",
    "We only care about the first one, a.k.a. what is \"above the fold\" at the top of the email. \n",
    "\n",
    "Next, list out the tags for each theme area. \n",
    "These tags will be used to help professional email marketers search an inspiration database to discover the emails that are most relevant to their query. \n",
    "It's important that you think like a professional marketing designer when writing these tags. \n",
    "For each of the following categories, please return 6-10 tags. related to themes you see in the header area. \n",
    "\n",
    "Please AVOID any tags that are generic to many well-made marketing emails. \n",
    "These are not helpful, as they don't distingish the email from other ones. \n",
    "Some examples of overly generic tags to avoid are things like \"Clean Spacing\", \"Clear Hierarchy\", \"Mobile-Optimized\", or \"Professional\". We can assume that all emails in our dataset are like this. \n",
    "\n",
    "Return the output as a json dictionary like so:\n",
    "{\n",
    "    \"header_area_description\": \"...\", # 1 sentence, up to 15 words. \n",
    "    \"layout\": [\"First Tag\", \"Second\", ...],  # how are the text and images laid out? What key layout elements are there? \n",
    "    \"brand_style\": [...], # what words best represent the brand style/voice of this email? What's the art style? \n",
    "    \"text\": [...],  # what kinds of fonts and text formats do they use, what techniques are used in laying out text?\n",
    "    \"color_scheme\": [...], # how would you describe the vibe of color scheme? (don't say specific colors, though) \n",
    "}\n",
    "\"\"\"\n",
    "\n"
   ]
  },
  {
   "cell_type": "code",
   "execution_count": 4,
   "id": "c4478f4f-36b6-4a2b-969c-465943ca46b2",
   "metadata": {},
   "outputs": [
    {
     "name": "stdout",
     "output_type": "stream",
     "text": [
      "error with from-brent.png, Error code: 400 - {'type': 'error', 'error': {'type': 'invalid_request_error', 'message': 'messages.0.content.0.image.source.base64.data: At least one of the image dimensions exceed max allowed size: 8000 pixels'}}\n",
      "creating file\n",
      "creating file\n",
      "creating file\n",
      "creating file\n",
      "creating file\n",
      "creating file\n",
      "creating file\n",
      "creating file\n",
      "creating file\n",
      "creating file\n",
      "creating file\n",
      "creating file\n",
      "creating file\n",
      "creating file\n",
      "creating file\n",
      "creating file\n",
      "creating file\n",
      "creating file\n"
     ]
    }
   ],
   "source": [
    " \n",
    "\n",
    "create_email_tags_dataset(\n",
    "    index_name='email-header-focus-fewer-tags',\n",
    "    prompt=SYSTEM_PROMPT, \n",
    "    tags_to_ignore='header_area_description')\n"
   ]
  },
  {
   "cell_type": "code",
   "execution_count": null,
   "id": "29b352f6-e2ba-41b6-b307-3d325a9fa699",
   "metadata": {},
   "outputs": [],
   "source": [
    "get_embeddings_and_upsert('email-header-focus-fewer-tags')"
   ]
  },
  {
   "cell_type": "code",
   "execution_count": null,
   "id": "331a9cc7-9261-49e1-8c34-d97d4b27b5c1",
   "metadata": {},
   "outputs": [],
   "source": []
  }
 ],
 "metadata": {
  "kernelspec": {
   "display_name": "Python 3 (ipykernel)",
   "language": "python",
   "name": "python3"
  },
  "language_info": {
   "codemirror_mode": {
    "name": "ipython",
    "version": 3
   },
   "file_extension": ".py",
   "mimetype": "text/x-python",
   "name": "python",
   "nbconvert_exporter": "python",
   "pygments_lexer": "ipython3",
   "version": "3.13.1"
  }
 },
 "nbformat": 4,
 "nbformat_minor": 5
}

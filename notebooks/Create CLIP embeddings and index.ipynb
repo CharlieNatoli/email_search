{
 "cells": [
  {
   "cell_type": "code",
   "execution_count": 1,
   "id": "398b0eb9-ffaa-48a9-b57c-567f36601765",
   "metadata": {},
   "outputs": [
    {
     "data": {
      "text/plain": [
       "True"
      ]
     },
     "execution_count": 1,
     "metadata": {},
     "output_type": "execute_result"
    }
   ],
   "source": [
    "from pinecone import Pinecone, ServerlessSpec\n",
    "\n",
    "from transformers import CLIPProcessor, CLIPModel\n",
    "import os\n",
    "import torch\n",
    "import base64\n",
    "import pandas as pd\n",
    "import io\n",
    "\n",
    "from dotenv import load_dotenv\n",
    "\n",
    "\n",
    "import sys \n",
    "\n",
    "sys.path.append(\"..\")\n",
    "sys.path.append(\"../utlities\")\n",
    "\n",
    "from utlities.directories import  IMAGES_FOLDER\n",
    "\n",
    "\n",
    "from IPython import display \n",
    "from PIL import Image\n",
    "import pillow_avif\n",
    "\n",
    "\n",
    "load_dotenv()\n"
   ]
  },
  {
   "cell_type": "code",
   "execution_count": 2,
   "id": "274b02d5-1acb-40f0-9b3e-32ac1af61d6c",
   "metadata": {},
   "outputs": [],
   "source": [
    "# make pinecone index\n",
    "\n",
    "pc = Pinecone(api_key=os.environ.get('PINECONE_API_KEY'))\n",
    "\n",
    "CLIP_INDEX_NAME = \"clip-email-index\"\n",
    "\n",
    "if not pc.has_index(CLIP_INDEX_NAME):\n",
    "  pc.create_index(\n",
    "      name=CLIP_INDEX_NAME,\n",
    "      dimension=512,\n",
    "      metric=\"cosine\",\n",
    "      spec=ServerlessSpec(\n",
    "          cloud='aws',\n",
    "          region='us-east-1'\n",
    "      )\n",
    "  )\n",
    "\n",
    "index = pc.Index(CLIP_INDEX_NAME)\n"
   ]
  },
  {
   "cell_type": "code",
   "execution_count": 3,
   "id": "a85c5294-f9e5-463c-bc9f-5d8c51b8cfd3",
   "metadata": {},
   "outputs": [
    {
     "name": "stderr",
     "output_type": "stream",
     "text": [
      "/Users/charlienatoli/coding_projects/email_content_search/.venv/lib/python3.11/site-packages/PIL/Image.py:1045: UserWarning: Palette images with Transparency expressed in bytes should be converted to RGBA images\n",
      "  warnings.warn(\n"
     ]
    }
   ],
   "source": [
    "# make image embeddings DF\n",
    "\n",
    "model_id = \"openai/clip-vit-base-patch32\"\n",
    "\n",
    "processor = CLIPProcessor.from_pretrained(model_id)\n",
    "model = CLIPModel.from_pretrained(model_id)\n",
    "model.to(\"cpu\")\n",
    "\n",
    "def create_image_embeddings(image):\n",
    "    if image is None:\n",
    "        return None\n",
    "        \n",
    "    vals = processor(\n",
    "          text=[\"\"],\n",
    "          images=image,\n",
    "          return_tensors='pt')['pixel_values'].to(\"cpu\")\n",
    "    image_embedding = model.get_image_features(vals)\n",
    "    return image_embedding[0]    \n",
    "\n",
    "\n",
    "def open_image(image_name):\n",
    "    return Image.open(os.path.join(IMAGES_FOLDER, image_name)) \n",
    "\n",
    "\n",
    "images = os.listdir(IMAGES_FOLDER)\n",
    "images = [im for im in images if not im.startswith(\".\")]\n",
    " \n",
    "images_df = pd.DataFrame({\n",
    "    \"image_filenames\": images\n",
    "})\n",
    "\n",
    "images_df['image'] = images_df['image_filenames'].apply(open_image)\n",
    "images_df['image_embeddings'] = images_df['image'].apply(create_image_embeddings)\n",
    " "
   ]
  },
  {
   "cell_type": "code",
   "execution_count": 4,
   "id": "1874c8d7-fad0-4512-9ae0-1547f65b29c3",
   "metadata": {},
   "outputs": [
    {
     "data": {
      "text/plain": [
       "{'upserted_count': 315}"
      ]
     },
     "execution_count": 4,
     "metadata": {},
     "output_type": "execute_result"
    }
   ],
   "source": [
    "# create and upsert vectors\n",
    "\n",
    "vectors = []\n",
    "\n",
    "for i in range(0, images_df.shape[0]):\n",
    "    d = images_df.loc[i]\n",
    "    if d['image'] is None:\n",
    "        continue\n",
    "    vectors.append({\n",
    "      \"id\": d[\"image_filenames\"],\n",
    "      \"values\": d[\"image_embeddings\"],\n",
    "      \"metadata\": {\"caption\": \"\"}\n",
    "  })\n",
    "\n",
    "index.upsert(\n",
    "    vectors=vectors,\n",
    "    namespace=\"ns1\"\n",
    ")"
   ]
  },
  {
   "cell_type": "code",
   "execution_count": null,
   "id": "25079c95-0dd7-4fbd-93cf-313e1b6ced36",
   "metadata": {},
   "outputs": [],
   "source": []
  }
 ],
 "metadata": {
  "kernelspec": {
   "display_name": "Python 3 (ipykernel)",
   "language": "python",
   "name": "python3"
  },
  "language_info": {
   "codemirror_mode": {
    "name": "ipython",
    "version": 3
   },
   "file_extension": ".py",
   "mimetype": "text/x-python",
   "name": "python",
   "nbconvert_exporter": "python",
   "pygments_lexer": "ipython3",
   "version": "3.11.9"
  }
 },
 "nbformat": 4,
 "nbformat_minor": 5
}
